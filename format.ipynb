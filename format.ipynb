{
 "cells": [
  {
   "cell_type": "code",
   "execution_count": 26,
   "metadata": {},
   "outputs": [],
   "source": [
    "import pandas as pd\n",
    "import geopandas as gpd"
   ]
  },
  {
   "cell_type": "code",
   "execution_count": 27,
   "metadata": {},
   "outputs": [],
   "source": [
    "# 1iDKvdDhCIgoMOwS7bIRinc2slbh0juDnqsQzfw5r8RM/edit?gid=0#gid=0"
   ]
  },
  {
   "cell_type": "code",
   "execution_count": 28,
   "metadata": {},
   "outputs": [],
   "source": [
    "SHEET_ID = \"1iDKvdDhCIgoMOwS7bIRinc2slbh0juDnqsQzfw5r8RM\"   # the long ID in the URL\n",
    "GID = \"0\"  # the worksheet/tab gid (in the URL after gid=)\n",
    "\n",
    "url = f\"https://docs.google.com/spreadsheets/d/{SHEET_ID}/export?format=csv&gid={GID}\"\n",
    "df = pd.read_csv(url)"
   ]
  },
  {
   "cell_type": "code",
   "execution_count": 29,
   "metadata": {},
   "outputs": [
    {
     "data": {
      "text/html": [
       "<div>\n",
       "<style scoped>\n",
       "    .dataframe tbody tr th:only-of-type {\n",
       "        vertical-align: middle;\n",
       "    }\n",
       "\n",
       "    .dataframe tbody tr th {\n",
       "        vertical-align: top;\n",
       "    }\n",
       "\n",
       "    .dataframe thead th {\n",
       "        text-align: right;\n",
       "    }\n",
       "</style>\n",
       "<table border=\"1\" class=\"dataframe\">\n",
       "  <thead>\n",
       "    <tr style=\"text-align: right;\">\n",
       "      <th></th>\n",
       "      <th>event</th>\n",
       "      <th>date</th>\n",
       "      <th>time</th>\n",
       "      <th>description</th>\n",
       "      <th>location</th>\n",
       "      <th>address</th>\n",
       "      <th>Latitude</th>\n",
       "      <th>Longitude</th>\n",
       "    </tr>\n",
       "  </thead>\n",
       "  <tbody>\n",
       "    <tr>\n",
       "      <th>0</th>\n",
       "      <td>protest</td>\n",
       "      <td>10/23/2025</td>\n",
       "      <td>7:00:00 AM</td>\n",
       "      <td>A couple dozen people gathered to protest the ...</td>\n",
       "      <td>Alameda Coast Guard Island</td>\n",
       "      <td>Coast Guard Island, Bldg 21, Rm 209, Alameda, ...</td>\n",
       "      <td>37.781998</td>\n",
       "      <td>-122.249082</td>\n",
       "    </tr>\n",
       "  </tbody>\n",
       "</table>\n",
       "</div>"
      ],
      "text/plain": [
       "     event        date        time  \\\n",
       "0  protest  10/23/2025  7:00:00 AM   \n",
       "\n",
       "                                         description  \\\n",
       "0  A couple dozen people gathered to protest the ...   \n",
       "\n",
       "                     location  \\\n",
       "0  Alameda Coast Guard Island   \n",
       "\n",
       "                                             address   Latitude   Longitude  \n",
       "0  Coast Guard Island, Bldg 21, Rm 209, Alameda, ...  37.781998 -122.249082  "
      ]
     },
     "execution_count": 29,
     "metadata": {},
     "output_type": "execute_result"
    }
   ],
   "source": [
    "df"
   ]
  },
  {
   "cell_type": "code",
   "execution_count": 30,
   "metadata": {},
   "outputs": [
    {
     "data": {
      "text/plain": [
       "event           object\n",
       "date            object\n",
       "time            object\n",
       "description     object\n",
       "location        object\n",
       "address         object\n",
       "Latitude       float64\n",
       "Longitude      float64\n",
       "dtype: object"
      ]
     },
     "execution_count": 30,
     "metadata": {},
     "output_type": "execute_result"
    }
   ],
   "source": [
    "df.dtypes"
   ]
  },
  {
   "cell_type": "code",
   "execution_count": 31,
   "metadata": {},
   "outputs": [],
   "source": [
    "# make date datetime\n",
    "\n",
    "# df['date'] = pd.to_datetime(df['date'])"
   ]
  },
  {
   "cell_type": "code",
   "execution_count": 32,
   "metadata": {},
   "outputs": [],
   "source": [
    "# make time datetime, it's 7:00:00 AM\n",
    "\n",
    "# df['time'] = pd.to_datetime(df['time']).dt.time"
   ]
  },
  {
   "cell_type": "code",
   "execution_count": 33,
   "metadata": {},
   "outputs": [
    {
     "data": {
      "text/html": [
       "<div>\n",
       "<style scoped>\n",
       "    .dataframe tbody tr th:only-of-type {\n",
       "        vertical-align: middle;\n",
       "    }\n",
       "\n",
       "    .dataframe tbody tr th {\n",
       "        vertical-align: top;\n",
       "    }\n",
       "\n",
       "    .dataframe thead th {\n",
       "        text-align: right;\n",
       "    }\n",
       "</style>\n",
       "<table border=\"1\" class=\"dataframe\">\n",
       "  <thead>\n",
       "    <tr style=\"text-align: right;\">\n",
       "      <th></th>\n",
       "      <th>event</th>\n",
       "      <th>date</th>\n",
       "      <th>time</th>\n",
       "      <th>description</th>\n",
       "      <th>location</th>\n",
       "      <th>address</th>\n",
       "      <th>Latitude</th>\n",
       "      <th>Longitude</th>\n",
       "    </tr>\n",
       "  </thead>\n",
       "  <tbody>\n",
       "    <tr>\n",
       "      <th>0</th>\n",
       "      <td>protest</td>\n",
       "      <td>10/23/2025</td>\n",
       "      <td>7:00:00 AM</td>\n",
       "      <td>A couple dozen people gathered to protest the ...</td>\n",
       "      <td>Alameda Coast Guard Island</td>\n",
       "      <td>Coast Guard Island, Bldg 21, Rm 209, Alameda, ...</td>\n",
       "      <td>37.781998</td>\n",
       "      <td>-122.249082</td>\n",
       "    </tr>\n",
       "  </tbody>\n",
       "</table>\n",
       "</div>"
      ],
      "text/plain": [
       "     event        date        time  \\\n",
       "0  protest  10/23/2025  7:00:00 AM   \n",
       "\n",
       "                                         description  \\\n",
       "0  A couple dozen people gathered to protest the ...   \n",
       "\n",
       "                     location  \\\n",
       "0  Alameda Coast Guard Island   \n",
       "\n",
       "                                             address   Latitude   Longitude  \n",
       "0  Coast Guard Island, Bldg 21, Rm 209, Alameda, ...  37.781998 -122.249082  "
      ]
     },
     "execution_count": 33,
     "metadata": {},
     "output_type": "execute_result"
    }
   ],
   "source": [
    "df"
   ]
  },
  {
   "cell_type": "code",
   "execution_count": 34,
   "metadata": {},
   "outputs": [],
   "source": [
    "# make it a gdf \n",
    "\n",
    "gdf = gpd.GeoDataFrame(\n",
    "    df, geometry=gpd.points_from_xy(df.Longitude, df.Latitude), crs=\"EPSG:4326\"\n",
    ")"
   ]
  },
  {
   "cell_type": "code",
   "execution_count": 35,
   "metadata": {},
   "outputs": [],
   "source": [
    "# export as events.geojson\n",
    "\n",
    "gdf.to_file(\"events.geojson\", driver=\"GeoJSON\")"
   ]
  },
  {
   "cell_type": "code",
   "execution_count": null,
   "metadata": {},
   "outputs": [],
   "source": []
  }
 ],
 "metadata": {
  "kernelspec": {
   "display_name": "Python 3",
   "language": "python",
   "name": "python3"
  },
  "language_info": {
   "codemirror_mode": {
    "name": "ipython",
    "version": 3
   },
   "file_extension": ".py",
   "mimetype": "text/x-python",
   "name": "python",
   "nbconvert_exporter": "python",
   "pygments_lexer": "ipython3",
   "version": "3.11.0rc2"
  }
 },
 "nbformat": 4,
 "nbformat_minor": 2
}
